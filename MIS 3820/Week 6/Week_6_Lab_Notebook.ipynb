{
 "cells": [
  {
   "cell_type": "markdown",
   "metadata": {},
   "source": [
    "# Week 6 Lab Assignment: Model Deployment and Monitoring"
   ]
  },
  {
   "cell_type": "markdown",
   "metadata": {},
   "source": [
    "### Objective\n",
    "In this lab, you will deploy a pre-trained machine learning model to a cloud environment and set up basic monitoring for it. You will also simulate model drift and demonstrate how to detect and address it."
   ]
  },
  {
   "cell_type": "markdown",
   "metadata": {},
   "source": [
    "### 1. Model Deployment\n",
    "**Objective:** Deploy a pre-trained machine learning model to a cloud environment.\n",
    "\n",
    "**Tasks:**\n",
    "1. **Choose a Cloud Platform:** Select a cloud platform (e.g., AWS, Azure, GCP) for deployment.\n",
    "2. **Containerize the Model:** Use Docker to containerize the model for deployment.\n",
    "3. **Deploy the Model:** Deploy the containerized model to the chosen cloud platform.\n",
    "4. **Test the Deployment:** Send test requests to the deployed model to ensure it's working correctly."
   ]
  },
  {
   "cell_type": "code",
   "execution_count": null,
   "metadata": {},
   "outputs": [],
   "source": [
    "# Example: Containerizing the model using Docker\n",
    "# Dockerfile example\n",
    "FROM python:3.8-slim-buster\n",
    "WORKDIR /app\n",
    "COPY requirements.txt requirements.txt\n",
    "RUN pip install -r requirements.txt\n",
    "COPY . .\n",
    "CMD [\"python\", \"app.py\"]\n",
    "\n",
    "# Build the Docker image\n",
    "!docker build -t my-model .\n",
    "\n",
    "# Run the Docker container\n",
    "!docker run -p 5000:5000 my-model"
   ]
  },
  {
   "cell_type": "markdown",
   "metadata": {},
   "source": [
    "### 2. Monitoring Model Performance\n",
    "**Objective:** Set up basic monitoring to track the model's performance after deployment.\n",
    "\n",
    "**Tasks:**\n",
    "1. **Set Up Monitoring Tools:** Use tools like Prometheus and Grafana to monitor model performance metrics (e.g., accuracy, latency).\n",
    "2. **Track Metrics:** Monitor key metrics to ensure the model is performing as expected.\n",
    "3. **Visualize Metrics:** Create dashboards to visualize the performance of the model over time."
   ]
  },
  {
   "cell_type": "code",
   "execution_count": null,
   "metadata": {},
   "outputs": [],
   "source": [
    "# Example: Setting up monitoring with Prometheus and Grafana\n",
    "# (This is a simplified example; actual setup may vary depending on the environment)\n",
    "\n",
    "# Step 1: Install Prometheus and Grafana (on local or cloud environment)\n",
    "!sudo apt-get update\n",
    "!sudo apt-get install prometheus\n",
    "!sudo apt-get install grafana\n",
    "\n",
    "# Step 2: Configure Prometheus to scrape metrics from the deployed model\n",
    "# Example Prometheus configuration file (prometheus.yml)\n",
    "scrape_configs:\n",
    "  - job_name: 'my_model'\n",
    "    static_configs:\n",
    "      - targets: ['localhost:5000']\n",
    "\n",
    "# Step 3: Start Prometheus\n",
    "!prometheus --config.file=prometheus.yml\n",
    "\n",
    "# Step 4: Access Grafana and create a new dashboard to visualize the metrics\n",
    "# (You can do this through the Grafana web interface after setting it up)"
   ]
  },
  {
   "cell_type": "markdown",
   "metadata": {},
   "source": [
    "### 3. Simulating Model Drift\n",
    "**Objective:** Simulate model drift and demonstrate how to detect and address it.\n",
    "\n",
    "**Tasks:**\n",
    "1. **Simulate Drift:** Introduce changes to the input data to simulate drift.\n",
    "2. **Detect Drift:** Use monitoring tools to detect changes in model performance metrics.\n",
    "3. **Address Drift:** Retrain the model or update features to address the drift and restore performance."
   ]
  },
  {
   "cell_type": "code",
   "execution_count": 1,
   "metadata": {},
   "outputs": [
    {
     "ename": "NameError",
     "evalue": "name 'model' is not defined",
     "output_type": "error",
     "traceback": [
      "\u001b[1;31m---------------------------------------------------------------------------\u001b[0m",
      "\u001b[1;31mNameError\u001b[0m                                 Traceback (most recent call last)",
      "Cell \u001b[1;32mIn[1], line 12\u001b[0m\n\u001b[0;32m      9\u001b[0m X_test_drifted \u001b[38;5;241m=\u001b[39m np\u001b[38;5;241m.\u001b[39mrandom\u001b[38;5;241m.\u001b[39mnormal(loc\u001b[38;5;241m=\u001b[39m\u001b[38;5;241m2\u001b[39m, scale\u001b[38;5;241m=\u001b[39m\u001b[38;5;241m1\u001b[39m, size\u001b[38;5;241m=\u001b[39m(\u001b[38;5;241m100\u001b[39m, \u001b[38;5;241m3\u001b[39m))\n\u001b[0;32m     11\u001b[0m \u001b[38;5;66;03m# Step 2: Monitor performance on drifted data\u001b[39;00m\n\u001b[1;32m---> 12\u001b[0m original_predictions \u001b[38;5;241m=\u001b[39m \u001b[43mmodel\u001b[49m\u001b[38;5;241m.\u001b[39mpredict(X_test_original)\n\u001b[0;32m     13\u001b[0m drifted_predictions \u001b[38;5;241m=\u001b[39m model\u001b[38;5;241m.\u001b[39mpredict(X_test_drifted)\n\u001b[0;32m     15\u001b[0m \u001b[38;5;66;03m# Compare performance metrics\u001b[39;00m\n",
      "\u001b[1;31mNameError\u001b[0m: name 'model' is not defined"
     ]
    }
   ],
   "source": [
    "# Example: Simulating and detecting model drift\n",
    "# Step 1: Simulate drift by changing the distribution of input data\n",
    "import numpy as np\n",
    "\n",
    "# Original data\n",
    "X_test_original = np.random.normal(loc=0, scale=1, size=(100, 3))\n",
    "\n",
    "# Simulated drift (shift mean of the data)\n",
    "X_test_drifted = np.random.normal(loc=2, scale=1, size=(100, 3))\n",
    "\n",
    "# Step 2: Monitor performance on drifted data\n",
    "original_predictions = model.predict(X_test_original)\n",
    "drifted_predictions = model.predict(X_test_drifted)\n",
    "\n",
    "# Compare performance metrics\n",
    "print(\"Original Data Accuracy:\", accuracy_score(y_test, original_predictions))\n",
    "print(\"Drifted Data Accuracy:\", accuracy_score(y_test, drifted_predictions))"
   ]
  },
  {
   "cell_type": "markdown",
   "metadata": {},
   "source": [
    "### 4. Submission\n",
    "**Deliverables:**\n",
    "- Jupyter Notebook (.ipynb) with all code, deployment steps, and monitoring setup.\n",
    "- A brief report (1-2 paragraphs) summarizing the deployment process, monitoring setup, and how you addressed the simulated model drift.\n",
    "\n",
    "**Deadline:** Submit your completed notebook and report to the course portal by [Insert Deadline Date]."
   ]
  }
 ],
 "metadata": {
  "kernelspec": {
   "display_name": "Python 3",
   "language": "python",
   "name": "python3"
  },
  "language_info": {
   "codemirror_mode": {
    "name": "ipython",
    "version": 3
   },
   "file_extension": ".py",
   "mimetype": "text/x-python",
   "name": "python",
   "nbconvert_exporter": "python",
   "pygments_lexer": "ipython3",
   "version": "3.9.13"
  }
 },
 "nbformat": 4,
 "nbformat_minor": 4
}
