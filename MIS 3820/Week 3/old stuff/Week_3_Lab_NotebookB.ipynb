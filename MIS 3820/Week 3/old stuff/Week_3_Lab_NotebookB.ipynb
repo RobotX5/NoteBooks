{
 "cells": [
  {
   "cell_type": "markdown",
   "metadata": {},
   "source": [
    "# Week 3 Lab Assignment: Applying SEMMA and Model Comparison"
   ]
  },
  {
   "cell_type": "markdown",
   "metadata": {},
   "source": [
    "### Objective\n",
    "In this lab, you will apply the SEMMA (Sample, Explore, Modify, Model, Assess) methodology to a dataset. You will implement and compare different machine learning models to determine which one performs best for a specific business problem."
   ]
  },
  {
   "cell_type": "markdown",
   "metadata": {},
   "source": [
    "### 1. Dataset Overview\n",
    "You will work with a dataset related to customer churn. The dataset contains information about customers' demographics, account details, and service usage. Your task is to predict which customers are likely to churn.\n",
    "\n",
    "**Dataset Name:** `customer_churn.csv`\n",
    "\n",
    "**Attributes:**\n",
    "- `CustomerID`: Unique identifier for each customer.\n",
    "- `Gender`: Gender of the customer (Male/Female).\n",
    "- `Age`: Age of the customer.\n",
    "- `Tenure`: Number of months the customer has been with the company.\n",
    "- `ServiceType`: Type of service (Internet/Phone).\n",
    "- `MonthlyCharges`: The amount charged to the customer monthly.\n",
    "- `TotalCharges`: The total amount charged to the customer.\n",
    "- `Churn`: Whether the customer has churned (Yes/No)."
   ]
  },
  {
   "cell_type": "markdown",
   "metadata": {},
   "source": [
    "### 2. Sample and Explore\n",
    "**Objective:** Understand the dataset and identify key variables.\n",
    "\n",
    "**Tasks:**\n",
    "1. **Load the Dataset:** Import the dataset into a Pandas DataFrame.\n",
    "2. **Inspect the Data:** Use Pandas functions to inspect the first few rows, check for missing values, and understand the data types.\n",
    "3. **Summary Statistics:** Generate summary statistics for numerical columns (`Age`, `Tenure`, `MonthlyCharges`, `TotalCharges`).\n",
    "4. **Visualize the Data:** Create visualizations to explore the relationships between variables, especially in relation to customer churn."
   ]
  },
  {
   "cell_type": "code",
   "execution_count": 1,
   "metadata": {},
   "outputs": [
    {
     "name": "stdout",
     "output_type": "stream",
     "text": [
      "Defaulting to user installation because normal site-packages is not writeable\n",
      "Requirement already satisfied: pandas in c:\\users\\jason\\appdata\\roaming\\python\\python39\\site-packages (2.2.2)\n",
      "Requirement already satisfied: tzdata>=2022.7 in c:\\users\\jason\\appdata\\roaming\\python\\python39\\site-packages (from pandas) (2024.1)\n",
      "Requirement already satisfied: numpy>=1.22.4 in c:\\users\\jason\\appdata\\roaming\\python\\python39\\site-packages (from pandas) (2.0.1)\n",
      "Requirement already satisfied: pytz>=2020.1 in c:\\users\\jason\\appdata\\roaming\\python\\python39\\site-packages (from pandas) (2024.1)\n",
      "Requirement already satisfied: python-dateutil>=2.8.2 in c:\\users\\jason\\appdata\\roaming\\python\\python39\\site-packages (from pandas) (2.9.0.post0)\n",
      "Requirement already satisfied: six>=1.5 in c:\\users\\jason\\appdata\\roaming\\python\\python39\\site-packages (from python-dateutil>=2.8.2->pandas) (1.16.0)\n",
      "Note: you may need to restart the kernel to use updated packages.\n"
     ]
    },
    {
     "name": "stderr",
     "output_type": "stream",
     "text": [
      "WARNING: You are using pip version 22.0.4; however, version 24.2 is available.\n",
      "You should consider upgrading via the 'c:\\Program Files (x86)\\Microsoft Visual Studio\\Shared\\Python39_64\\python.exe -m pip install --upgrade pip' command.\n"
     ]
    },
    {
     "name": "stdout",
     "output_type": "stream",
     "text": [
      "Defaulting to user installation because normal site-packages is not writeable\n",
      "Requirement already satisfied: matplotlib in c:\\users\\jason\\appdata\\roaming\\python\\python39\\site-packages (3.9.2)\n",
      "Requirement already satisfied: numpy>=1.23 in c:\\users\\jason\\appdata\\roaming\\python\\python39\\site-packages (from matplotlib) (2.0.1)\n",
      "Requirement already satisfied: cycler>=0.10 in c:\\users\\jason\\appdata\\roaming\\python\\python39\\site-packages (from matplotlib) (0.12.1)\n",
      "Requirement already satisfied: kiwisolver>=1.3.1 in c:\\users\\jason\\appdata\\roaming\\python\\python39\\site-packages (from matplotlib) (1.4.5)\n",
      "Requirement already satisfied: importlib-resources>=3.2.0 in c:\\users\\jason\\appdata\\roaming\\python\\python39\\site-packages (from matplotlib) (6.4.0)\n",
      "Requirement already satisfied: fonttools>=4.22.0 in c:\\users\\jason\\appdata\\roaming\\python\\python39\\site-packages (from matplotlib) (4.53.1)\n",
      "Requirement already satisfied: pillow>=8 in c:\\users\\jason\\appdata\\roaming\\python\\python39\\site-packages (from matplotlib) (10.4.0)\n",
      "Requirement already satisfied: python-dateutil>=2.7 in c:\\users\\jason\\appdata\\roaming\\python\\python39\\site-packages (from matplotlib) (2.9.0.post0)\n",
      "Requirement already satisfied: contourpy>=1.0.1 in c:\\users\\jason\\appdata\\roaming\\python\\python39\\site-packages (from matplotlib) (1.2.1)\n",
      "Requirement already satisfied: pyparsing>=2.3.1 in c:\\users\\jason\\appdata\\roaming\\python\\python39\\site-packages (from matplotlib) (3.1.2)\n",
      "Requirement already satisfied: packaging>=20.0 in c:\\users\\jason\\appdata\\roaming\\python\\python39\\site-packages (from matplotlib) (24.1)\n",
      "Requirement already satisfied: zipp>=3.1.0 in c:\\users\\jason\\appdata\\roaming\\python\\python39\\site-packages (from importlib-resources>=3.2.0->matplotlib) (3.20.0)\n",
      "Requirement already satisfied: six>=1.5 in c:\\users\\jason\\appdata\\roaming\\python\\python39\\site-packages (from python-dateutil>=2.7->matplotlib) (1.16.0)\n",
      "Note: you may need to restart the kernel to use updated packages.\n"
     ]
    },
    {
     "name": "stderr",
     "output_type": "stream",
     "text": [
      "WARNING: You are using pip version 22.0.4; however, version 24.2 is available.\n",
      "You should consider upgrading via the 'c:\\Program Files (x86)\\Microsoft Visual Studio\\Shared\\Python39_64\\python.exe -m pip install --upgrade pip' command.\n"
     ]
    },
    {
     "name": "stdout",
     "output_type": "stream",
     "text": [
      "Defaulting to user installation because normal site-packages is not writeable\n",
      "Collecting scikit-learn\n",
      "  Downloading scikit_learn-1.5.1-cp39-cp39-win_amd64.whl (11.0 MB)\n",
      "     ---------------------------------------- 11.0/11.0 MB 4.3 MB/s eta 0:00:00\n",
      "Collecting threadpoolctl>=3.1.0\n",
      "  Downloading threadpoolctl-3.5.0-py3-none-any.whl (18 kB)\n",
      "Requirement already satisfied: numpy>=1.19.5 in c:\\users\\jason\\appdata\\roaming\\python\\python39\\site-packages (from scikit-learn) (2.0.1)\n",
      "Collecting joblib>=1.2.0\n",
      "  Downloading joblib-1.4.2-py3-none-any.whl (301 kB)\n",
      "     -------------------------------------- 301.8/301.8 KB 4.6 MB/s eta 0:00:00\n",
      "Collecting scipy>=1.6.0\n",
      "  Downloading scipy-1.13.1-cp39-cp39-win_amd64.whl (46.2 MB)\n",
      "     ---------------------------------------- 46.2/46.2 MB 6.0 MB/s eta 0:00:00\n",
      "Installing collected packages: threadpoolctl, scipy, joblib, scikit-learn\n",
      "Successfully installed joblib-1.4.2 scikit-learn-1.5.1 scipy-1.13.1 threadpoolctl-3.5.0\n",
      "Note: you may need to restart the kernel to use updated packages.\n"
     ]
    },
    {
     "name": "stderr",
     "output_type": "stream",
     "text": [
      "WARNING: You are using pip version 22.0.4; however, version 24.2 is available.\n",
      "You should consider upgrading via the 'c:\\Program Files (x86)\\Microsoft Visual Studio\\Shared\\Python39_64\\python.exe -m pip install --upgrade pip' command.\n"
     ]
    }
   ],
   "source": [
    "# Import necessary packages\n",
    "%pip install pandas\n",
    "%pip install matplotlib\n",
    "%pip install scikit-learn\n",
    "import pandas as pd\n",
    "import matplotlib.pyplot as plt\n",
    "%matplotlib inline\n",
    "from sklearn.model_selection import train_test_split\n",
    "from sklearn.tree import DecisionTreeClassifier\n",
    "from sklearn.ensemble import RandomForestClassifier, GradientBoostingClassifier\n",
    "from sklearn.metrics import accuracy_score, precision_score, recall_score"
   ]
  },
  {
   "cell_type": "code",
   "execution_count": 2,
   "metadata": {},
   "outputs": [
    {
     "name": "stdout",
     "output_type": "stream",
     "text": [
      "   CustomerID  Gender  Age  Tenure ServiceType  MonthlyCharges  TotalCharges  \\\n",
      "0           1  Female   45      12    Internet           70.35         842.2   \n",
      "1           2    Male   34      24       Phone           45.50        1085.4   \n",
      "2           3  Female   50      36    Internet           90.00        3240.0   \n",
      "3           4  Female   29       6       Phone           35.75         214.5   \n",
      "4           5    Male   23      12    Internet           56.15         673.8   \n",
      "\n",
      "  Churn  \n",
      "0    No  \n",
      "1   Yes  \n",
      "2    No  \n",
      "3   Yes  \n",
      "4    No  \n",
      "CustomerID        0\n",
      "Gender            0\n",
      "Age               0\n",
      "Tenure            0\n",
      "ServiceType       0\n",
      "MonthlyCharges    0\n",
      "TotalCharges      0\n",
      "Churn             0\n",
      "dtype: int64\n",
      "       CustomerID        Age     Tenure  MonthlyCharges  TotalCharges\n",
      "count   25.000000  25.000000  25.000000       25.000000     25.000000\n",
      "mean    13.000000  42.360000  20.640000       62.680000   1351.420000\n",
      "std      7.359801  12.099862  12.619033       19.849491   1011.352063\n",
      "min      1.000000  23.000000   6.000000       35.750000    214.500000\n",
      "25%      7.000000  33.000000  12.000000       45.500000    673.800000\n",
      "50%     13.000000  42.000000  18.000000       60.000000   1080.000000\n",
      "75%     19.000000  52.000000  24.000000       78.250000   1814.400000\n",
      "max     25.000000  65.000000  48.000000      100.000000   4423.200000\n"
     ]
    },
    {
     "data": {
      "image/png": "[encoded data removed]",
      "text/plain": [
       "<Figure size 640x480 with 1 Axes>"
      ]
     },
     "metadata": {},
     "output_type": "display_data"
    }
   ],
   "source": [
    "# Load the dataset\n",
    "df = pd.read_csv('customer_churn.csv')\n",
    "\n",
    "# Inspect the first few rows\n",
    "print(df.head())\n",
    "\n",
    "# Check for missing values\n",
    "print(df.isnull().sum())\n",
    "\n",
    "# Generate summary statistics\n",
    "print(df.describe())\n",
    "\n",
    "# Visualize churn by service type\n",
    "df.groupby('ServiceType')['Churn'].value_counts().unstack().plot(kind='bar', stacked=True)\n",
    "plt.title('Churn by Service Type')\n",
    "plt.xlabel('Service Type')\n",
    "plt.ylabel('Number of Customers')\n",
    "plt.show()"
   ]
  },
  {
   "cell_type": "markdown",
   "metadata": {},
   "source": [
    "### 3. Modify\n",
    "**Objective:** Prepare the data for modeling.\n",
    "\n",
    "**Tasks:**\n",
    "1. **Handle Missing Values:** Deal with any missing values in the dataset.\n",
    "2. **Feature Engineering:** Create new features if necessary (e.g., converting `TotalCharges` to a numeric format if it's stored as a string).\n",
    "3. **Encoding Categorical Variables:** Convert categorical variables (like `Gender`, `ServiceType`, `Churn`) into numeric format using techniques like one-hot encoding."
   ]
  },
  {
   "cell_type": "code",
   "execution_count": 3,
   "metadata": {},
   "outputs": [],
   "source": [
    "# Handle missing values by dropping rows with missing data\n",
    "df = df.dropna()\n",
    "\n",
    "# Convert TotalCharges to numeric\n",
    "df['TotalCharges'] = pd.to_numeric(df['TotalCharges'], errors='coerce')\n",
    "\n",
    "# Encode categorical variables\n",
    "df = pd.get_dummies(df, columns=['Gender', 'ServiceType'], drop_first=True)\n",
    "\n",
    "# Encode the target variable (Churn)\n",
    "df['Churn'] = df['Churn'].map({'Yes': 1, 'No': 0})"
   ]
  },
  {
   "cell_type": "markdown",
   "metadata": {},
   "source": [
    "### 4. Model\n",
    "**Objective:** Implement different models to predict customer churn.\n",
    "\n",
    "**Tasks:**\n",
    "1. **Train-Test Split:** Split the dataset into training and testing sets.\n",
    "2. **Implement Models:** Implement at least two models (e.g., Decision Tree, Random Forest, Gradient Boosting).\n",
    "3. **Evaluate Performance:** Use appropriate metrics (e.g., accuracy, precision, recall) to evaluate the performance of each model."
   ]
  },
  {
   "cell_type": "code",
   "execution_count": 4,
   "metadata": {},
   "outputs": [
    {
     "name": "stdout",
     "output_type": "stream",
     "text": [
      "Model: Decision Tree\n",
      "Accuracy: 0.5\n",
      "Precision: 1.0\n",
      "Recall: 0.3333333333333333\n",
      "\n",
      "Model: Random Forest\n",
      "Accuracy: 0.375\n",
      "Precision: 1.0\n",
      "Recall: 0.16666666666666666\n",
      "\n",
      "Model: Gradient Boosting\n",
      "Accuracy: 0.25\n",
      "Precision: 0.0\n",
      "Recall: 0.0\n",
      "\n"
     ]
    },
    {
     "name": "stderr",
     "output_type": "stream",
     "text": [
      "C:\\Users\\jason\\AppData\\Roaming\\Python\\Python39\\site-packages\\sklearn\\metrics\\_classification.py:1531: UndefinedMetricWarning: Precision is ill-defined and being set to 0.0 due to no predicted samples. Use `zero_division` parameter to control this behavior.\n",
      "  _warn_prf(average, modifier, f\"{metric.capitalize()} is\", len(result))\n"
     ]
    }
   ],
   "source": [
    "# Split the data into training and testing sets\n",
    "X = df.drop(['CustomerID', 'Churn'], axis=1)\n",
    "y = df['Churn']\n",
    "X_train, X_test, y_train, y_test = train_test_split(X, y, test_size=0.3, random_state=42)\n",
    "\n",
    "# Implement Decision Tree model\n",
    "dt_model = DecisionTreeClassifier()\n",
    "dt_model.fit(X_train, y_train)\n",
    "dt_preds = dt_model.predict(X_test)\n",
    "\n",
    "# Implement Random Forest model\n",
    "rf_model = RandomForestClassifier()\n",
    "rf_model.fit(X_train, y_train)\n",
    "rf_preds = rf_model.predict(X_test)\n",
    "\n",
    "# Implement Gradient Boosting model\n",
    "gb_model = GradientBoostingClassifier()\n",
    "gb_model.fit(X_train, y_train)\n",
    "gb_preds = gb_model.predict(X_test)\n",
    "\n",
    "# Evaluate models\n",
    "models = {'Decision Tree': dt_preds, 'Random Forest': rf_preds, 'Gradient Boosting': gb_preds}\n",
    "for model_name, preds in models.items():\n",
    "    print(f\"Model: {model_name}\")\n",
    "    print(f\"Accuracy: {accuracy_score(y_test, preds)}\")\n",
    "    print(f\"Precision: {precision_score(y_test, preds)}\")\n",
    "    print(f\"Recall: {recall_score(y_test, preds)}\")\n",
    "    print()"
   ]
  },
  {
   "cell_type": "markdown",
   "metadata": {},
   "source": [
    "### 5. Assess\n",
    "**Objective:** Compare the models and select the best one.\n",
    "\n",
    "**Task:** Based on the evaluation metrics, choose the best model for predicting customer churn. Justify your choice based on the results and the business context.\n",
    "\n",
    "**Example Assessment:**\n",
    "- \"Based on the evaluation metrics, the Random Forest model performs best with the highest accuracy and precision. Given the importance of correctly identifying customers at risk of churn, Random Forest's ability to handle complex relationships in the data makes it the preferred model.\""
   ]
  },
  {
   "cell_type": "markdown",
   "metadata": {},
   "source": [
    "### 6. Submission\n",
    "**Deliverables:**\n",
    "- Jupyter Notebook (.ipynb) with all code, visualizations, and model comparison.\n",
    "- A brief report (1-2 paragraphs) summarizing your findings and model selection.\n",
    "\n",
    "**Deadline:** Submit your completed notebook and report to the course portal by end of class."
   ]
  }
 ],
 "metadata": {
  "kernelspec": {
   "display_name": "Python 3",
   "language": "python",
   "name": "python3"
  },
  "language_info": {
   "codemirror_mode": {
    "name": "ipython",
    "version": 3
   },
   "file_extension": ".py",
   "mimetype": "text/x-python",
   "name": "python",
   "nbconvert_exporter": "python",
   "pygments_lexer": "ipython3",
   "version": "3.9.13"
  }
 },
 "nbformat": 4,
 "nbformat_minor": 4
}
