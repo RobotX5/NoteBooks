import pandas as pd
import matplotlib.pyplot as plt

# Read the data
sales_data = pd.read_csv("sales_data.csv")

# Basic data exploration
print(sales_data.head())  # Display the first few rows
print(sales_data.describe())  # Summary statistics

# Create a bar chart of total sales by region
total_sales_by_region = sales_data.groupby('Region')['SalesAmount'].sum()
total_sales_by_region.plot(kind='bar', title='Total Sales by Region')
plt.ylabel('Total Sales')
plt.show()
